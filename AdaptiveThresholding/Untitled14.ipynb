{
  "nbformat": 4,
  "nbformat_minor": 0,
  "metadata": {
    "colab": {
      "name": "Untitled14.ipynb",
      "provenance": []
    },
    "kernelspec": {
      "name": "python3",
      "display_name": "Python 3"
    },
    "language_info": {
      "name": "python"
    }
  },
  "cells": [
    {
      "cell_type": "code",
      "metadata": {
        "colab": {
          "base_uri": "https://localhost:8080/",
          "height": 434
        },
        "id": "VSYXv8g1EJp2",
        "outputId": "dcf43a45-18c5-44fe-8709-5135dc02a888"
      },
      "source": [
        "\n",
        "from google.colab.patches import cv2_imshow\n",
        "#read the image\n",
        "image = cv2.imread('ppp')\n",
        "#convert the image to grayscale\n",
        "image = cv2.cvtColor(image, cv2.COLOR_BGR2GRAY)\n",
        "#apply gaussian blur on the grayscale image\n",
        "blurred = cv2.GaussianBlur(image, (5,5), 0)\n",
        "#Adaptive thresholding\n",
        "thresh = cv2.adaptiveThreshold(blurred, 255, cv2.ADAPTIVE_THRESH_MEAN_C, cv2.THRESH_BINARY_INV,11, 4)\n",
        "thresh = cv2.adaptiveThreshold(blurred, 255, cv2.ADAPTIVE_THRESH_GAUSSIAN_C, cv2.THRESH_BINARY_INV, 15, 3)\n",
        "#display the image after adaptive thresholding\n",
        "cv2_imshow(thresh)\n",
        "cv2.waitKey(0)\n"
      ],
      "execution_count": 3,
      "outputs": [
        {
          "output_type": "display_data",
          "data": {
            "image/png": "[encoded data removed]",
            "text/plain": [
              "<PIL.Image.Image image mode=L size=400x400 at 0x7F7EA4C23810>"
            ]
          },
          "metadata": {
            "tags": []
          }
        },
        {
          "output_type": "execute_result",
          "data": {
            "text/plain": [
              "-1"
            ]
          },
          "metadata": {
            "tags": []
          },
          "execution_count": 3
        }
      ]
    }
  ]
}