{
 "cells": [
  {
   "cell_type": "code",
   "execution_count": 2,
   "id": "eastern-radiation",
   "metadata": {},
   "outputs": [],
   "source": [
    "import cv2"
   ]
  },
  {
   "cell_type": "code",
   "execution_count": 3,
   "id": "independent-anatomy",
   "metadata": {},
   "outputs": [],
   "source": [
    "########## a number of tracker dictionaries that maps strings to their#####\n",
    "##########corresponding OpenCV object tracker implementations ###########\n",
    "Tracker_dict = {'csrt':cv2.TrackerCSRT_create,                \n",
    "                'kcf':cv2.TrackerKCF_create,\n",
    "                'boosting': cv2.TrackerBoosting_create,\n",
    "                'mil': cv2.TrackerMIL_create,\n",
    "                'medianflow': cv2.TrackerMedianFlow_create,\n",
    "                'mosse': cv2.TrackerMOSSE_create}"
   ]
  },
  {
   "cell_type": "code",
   "execution_count": 15,
   "id": "loaded-emphasis",
   "metadata": {},
   "outputs": [],
   "source": [
    "###### to detect multiple objects , multiple trackers are used here\n",
    "trackers = cv2.MultiTracker_create()  "
   ]
  },
  {
   "cell_type": "code",
   "execution_count": 5,
   "id": "periodic-transfer",
   "metadata": {},
   "outputs": [],
   "source": [
    "video= cv2.VideoCapture(r'football_video.mp4')\n",
    "# reading frames from the video\n",
    "ret, frame = video.read()"
   ]
  },
  {
   "cell_type": "code",
   "execution_count": null,
   "id": "suited-mayor",
   "metadata": {},
   "outputs": [],
   "source": [
    "######## to track k number objects , initialising a varible k with any value\n",
    "k=3                \n",
    "for i in range(k):\n",
    "    cv2.imshow('Frame',frame)\n",
    "    #### select the bounding box of the object we want to track\n",
    "    boundingbox = cv2.selectROI('Frame',frame)\n",
    "    tracker = Tracker_dict['csrt']()\n",
    "    #### create a new object tracker for the bounding box and add it trackers\n",
    "    trackers.add(tracker, frame, boundingbox)"
   ]
  },
  {
   "cell_type": "code",
   "execution_count": null,
   "id": "sweet-thread",
   "metadata": {},
   "outputs": [],
   "source": [
    "##### loop over frames from the video #######   \n",
    "while True:\n",
    "    ret, frame = video.read()\n",
    "    if not ret:\n",
    "        break\n",
    "    ##### grab the updated bounding box coordinates (if any) for each\n",
    "    ##### object that is being tracked\n",
    "    (success, boxes)=trackers.update(frame)\n",
    "\n",
    "    ##### loop over the bounding boxes and draw then on the frame\n",
    "    for box in boxes:\n",
    "        (x,y,w,h) = [int(a) for a in box]\n",
    "        cv2.rectangle(frame,(x,y),(x+w,y+h),(255,100,200),2)\n",
    "        cv2.imshow('Frame',frame)\n",
    "        key = cv2.waitKey(10) & 0xFF  # hexadecimal representation of 8 times 1 and shortcut of getting least significant 8 bits of this 32 bit integer\n",
    "        if key == ord('q'):\n",
    "            break"
   ]
  },
  {
   "cell_type": "code",
   "execution_count": null,
   "id": "appreciated-building",
   "metadata": {},
   "outputs": [],
   "source": [
    "video.release()\n",
    "cv2.destroyAllWindows()     # close all windows"
   ]
  }
 ],
 "metadata": {
  "kernelspec": {
   "display_name": "Python 3",
   "language": "python",
   "name": "python3"
  },
  "language_info": {
   "codemirror_mode": {
    "name": "ipython",
    "version": 3
   },
   "file_extension": ".py",
   "mimetype": "text/x-python",
   "name": "python",
   "nbconvert_exporter": "python",
   "pygments_lexer": "ipython3",
   "version": "3.7.4"
  }
 },
 "nbformat": 4,
 "nbformat_minor": 5
}
